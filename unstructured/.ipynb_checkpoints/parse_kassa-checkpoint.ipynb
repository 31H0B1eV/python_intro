{
 "cells": [
  {
   "cell_type": "markdown",
   "metadata": {},
   "source": [
    "<center>\n",
    "# MLClass. \"Прикладной анализ данных\"\n",
    "# Модуль \"Инструментарий Data Science\"\n",
    "<img src=\"../img/mlclass_logo.jpg\" height=\"240\" width=\"240\">\n",
    "\n",
    "## Автор материала: Юрий Кашницкий, ФКН НИУ ВШЭ\n",
    "</center>\n",
    "Материал распространяется на условиях лицензии <a href=\"http://creativecommons.org/licenses/by-sa/4.0/\">Creative Commons Attribution-Share Alike 4.0</a>. Можно использовать в любых целях, но с обязательным упоминанием автора курса и аффилиации."
   ]
  },
  {
   "cell_type": "markdown",
   "metadata": {},
   "source": [
    "## Пример реальной задачи по парсингу данных"
   ]
  },
  {
   "cell_type": "code",
   "execution_count": 1,
   "metadata": {
    "collapsed": true
   },
   "outputs": [],
   "source": [
    "# Python 2 and 3 compatibility\n",
    "# pip install future\n",
    "from __future__ import (absolute_import, division,\n",
    "                        print_function, unicode_literals)\n",
    "from builtins import *"
   ]
  },
  {
   "cell_type": "markdown",
   "metadata": {},
   "source": [
    "Допустим, в кассе \"Яндекс\" есть счета, выставленные клиентам магазина, и соттветсвующие платежи. Платежи выставляются на конкретный e-mail и имеют ID платежа. Все почтовые ящики уникальны, на один ящик может быть послано несколько платежей с разными ID (обязаьтельно разными) и суммой (необязательно разными).\n",
    "\n",
    "<img src=\"../img/kassa_bills.png\">"
   ]
  },
  {
   "cell_type": "markdown",
   "metadata": {},
   "source": [
    "По выставленным платежам есть реальные оплаты. ID платежа и сумма.\n",
    "\n",
    "<img src=\"../img/kassa_payments.png\">"
   ]
  },
  {
   "cell_type": "markdown",
   "metadata": {},
   "source": [
    "Как нам составить таблицу почтовых ящиков с реально оплаченными счетами, чтоб понять, кто сколько заплатил в сумме?"
   ]
  },
  {
   "cell_type": "markdown",
   "metadata": {},
   "source": [
    "Создадим функцию, которая считывает файл с данными о счетах и возвращает словарь словарей  вида {e-mail: {trans_id1: amount1, trans_id2: amount2}}"
   ]
  },
  {
   "cell_type": "code",
   "execution_count": 2,
   "metadata": {
    "collapsed": false
   },
   "outputs": [],
   "source": [
    "BILL_ID_PREFIX = \"48241-\"\n",
    "\n",
    "def parse_bills(input_path):\n",
    "    bills_dict = {}\n",
    "    with open(input_path, encoding=\"utf8\") as bills:\n",
    "        for line in bills:\n",
    "            if BILL_ID_PREFIX in line:\n",
    "                trans_id = int(line.strip().split(BILL_ID_PREFIX)[1])\n",
    "                email_id = bills.readline().strip()\n",
    "                amount = int(bills.readline().strip()\\\n",
    "                             .split(',')[0].replace(' ',''))\n",
    "                if email_id not in bills_dict:\n",
    "                    bills_dict[email_id] = {trans_id: amount}\n",
    "                else:\n",
    "                    bills_dict[email_id][trans_id] = amount\n",
    "    return bills_dict"
   ]
  },
  {
   "cell_type": "code",
   "execution_count": 3,
   "metadata": {
    "collapsed": false
   },
   "outputs": [
    {
     "name": "stdout",
     "output_type": "stream",
     "text": [
      "{u'alega19@mail.ru': {52: 42}, u'Hellboysis666@gmail.com': {37: 42}, u'seregalu@yandex.ru': {23: 32}, u'kushchev.va@vtb24.ru': {10: 42}, u'vbokr@mail.ru': {57: 10, 58: 10, 9: 20}, u'441976@inbox.ru': {24: 12}, u'elena.fomenko8@gmail.com': {65: 10, 66: 10, 51: 20}, u'dimkat@gmail.com': {6: 12}, u'grayskripko@gmail.com': {15: 42}, u'arsen.nafka@gmail.com': {71: 10}, u'stebljuk@gmail.com': {42: 42}, u'roslov.anton@gmail.com': {2: 10}, u'demuradmitriy@yandex.ru': {32: 22}, u'romix.bv@gmail.com': {41: 42}, u'artem94@bk.ru': {28: 10}, u'kulyok.bag@gmail.com': {31: 10}, u'diana.sungatullina@gmail.com': {38: 42}, u'ivan.girya@gmail.com': {19: 10}, u'gaiar@baimuratov.ru': {78: 12}, u'roman.zakharovp@gmail.com': {13: 22}, u'a.l.shevchenko.ua@gmail.com': {5: 22}, u'bobrovviktor@gmail.com': {36: 12, 47: 10}, u'belskikh.aleksandr@gmail.com': {45: 42}, u'al.krot.kav@gmail.com': {1: 1}, u'khusnutdinova.e@gmail.com': {3: 10}, u'kkrasnoschekov@genplanmos.ru': {72: 10, 73: 12}, u'sergey.salnikov.dev@yandex.ru': {14: 42, 60: 10, 77: 10, 62: 10, 79: 12}, u'a-karelsky@hotmail.com': {48: 10}, u'adeykin90@gmail.com': {49: 32, 55: 10}, u'antonkiselev@me.com': {59: 10, 53: 22}, u'bellmsk@gmail.com': {18: 42}, u'alexhaker@yahoo.co.uk': {7: 42}, u'pavel7ovchinnikov@gmail.com': {11: 10}, u'pollynik@yandex.ru': {84: 12}, u'andryuha-v@mail.ru': {80: 12, 64: 10, 50: 10, 75: 10}, u'perestrelka@gmail.com': {54: 20}, u'igorrutin@gmail.com': {70: 10}, u'junky.man@yandex.ru': {20: 10}, u'belindr@mail.ru': {12: 22}, u'sedruid@gmail.com': {35: 42}, u'dmitry.okhezin@gmail.com': {44: 42}, u'kirgush@gmail.com': {4: 20}, u'pavelpakhomov@gmail.com': {33: 22, 69: 10}, u'delpasso@gmail.com': {56: 10}, u'atselikov@gmail.com': {39: 20}, u'anton_palmov@mail.ru': {8: 42, 67: 10, 68: 10, 46: 10}, u'dkishmareishvili@gmail.com': {43: 30, 63: 2}, u'sarychev@mail.com': {40: 42}, u'stratigon@gmail.com': {81: 12}, u'parpulov.diman@mail.ru': {30: 42}, u'moemailn@gmail.com': {17: 32}, u'bendyna.ivan@gmail.com': {26: 32}, u'frolova.victory@gmail.com': {74: 12, 76: 10}, u'aloha@74.ru': {29: 12}, u'info@lifefilm.ru': {21: 22}, u'ni-ko-lay@mail.ru': {82: 12, 61: 10}, u'susumanin@gmail.com': {34: 22}, u'korzhikdmitry@gmail.com': {83: 12}, u'ashmanov@gmail.com': {25: 10}, u'intendia@gmail.com': {27: 10}, u'murashkin.alexandr@gmail.com': {16: 12}, u'pro-maker@ya.ru': {22: 42}}\n"
     ]
    }
   ],
   "source": [
    "print(parse_bills(\"../data/kassa_bills.txt\"))"
   ]
  },
  {
   "cell_type": "markdown",
   "metadata": {},
   "source": [
    "Теперь попроще - обработаем файл с платежами. Создадим функцию, которая считывает файл с платежами и возвращает список ID платежей, по которым реально прошла оплата."
   ]
  },
  {
   "cell_type": "code",
   "execution_count": 4,
   "metadata": {
    "collapsed": true
   },
   "outputs": [],
   "source": [
    "def parse_payments(input_path):\n",
    "    paid_ids = []\n",
    "    with open(input_path, encoding=\"utf8\") as f:\n",
    "        for line in f:\n",
    "            if BILL_ID_PREFIX in line \\\n",
    "            and \"ID\" + BILL_ID_PREFIX not in line:\n",
    "                paid_ids.append(line.strip().split('48241-')[1])\n",
    "        paid_ids = [int(id) for id in paid_ids]\n",
    "    return paid_ids"
   ]
  },
  {
   "cell_type": "markdown",
   "metadata": {},
   "source": [
    "Вот ID счетов, по которым прошла оплата"
   ]
  },
  {
   "cell_type": "code",
   "execution_count": 5,
   "metadata": {
    "collapsed": false
   },
   "outputs": [
    {
     "name": "stdout",
     "output_type": "stream",
     "text": [
      "[82, 83, 80, 78, 73, 24, 77, 72, 76, 65, 75, 74, 66, 69, 13, 62, 64, 51, 61, 18, 2, 60, 59, 58, 57, 4, 20, 16, 5, 11, 55, 46, 29, 19, 48, 25, 9, 22, 27, 3, 47, 12, 15, 36, 45, 39, 33, 34, 6, 26]\n"
     ]
    }
   ],
   "source": [
    "print(parse_payments(\"../data/kassa_payments.txt\"))"
   ]
  },
  {
   "cell_type": "markdown",
   "metadata": {},
   "source": [
    "Наконец, создадим финальный словарь"
   ]
  },
  {
   "cell_type": "code",
   "execution_count": 6,
   "metadata": {
    "collapsed": true
   },
   "outputs": [],
   "source": [
    "def paid_emails(bills_dict, paid_ids):\n",
    "    paid_emails_dic = {}\n",
    "    for email_id in bills_dict:\n",
    "        for trans_id in bills_dict[email_id]:\n",
    "            if trans_id in paid_ids:\n",
    "                if email_id not in paid_emails_dic:\n",
    "                    paid_emails_dic[email_id] = [[trans_id], \n",
    "                                          bills_dict[email_id][trans_id]]\n",
    "                else:\n",
    "                    new_ids, new_amount = paid_emails_dic[email_id][0], \\\n",
    "                                            paid_emails_dic[email_id][1]\n",
    "                    new_ids.extend([trans_id])\n",
    "                    new_amount += bills_dict[email_id][trans_id]\n",
    "                    paid_emails_dic[email_id] = [new_ids, new_amount]\n",
    "    return paid_emails_dic"
   ]
  },
  {
   "cell_type": "code",
   "execution_count": 7,
   "metadata": {
    "collapsed": false
   },
   "outputs": [
    {
     "name": "stdout",
     "output_type": "stream",
     "text": [
      "{u'vbokr@mail.ru': [[57, 58, 9], 40], u'441976@inbox.ru': [[24], 12], u'elena.fomenko8@gmail.com': [[65, 66, 51], 40], u'dimkat@gmail.com': [[6], 12], u'roslov.anton@gmail.com': [[2], 10], u'intendia@gmail.com': [[27], 10], u'bellmsk@gmail.com': [[18], 42], u'ivan.girya@gmail.com': [[19], 10], u'gaiar@baimuratov.ru': [[78], 12], u'roman.zakharovp@gmail.com': [[13], 22], u'a.l.shevchenko.ua@gmail.com': [[5], 22], u'bobrovviktor@gmail.com': [[36, 47], 22], u'belskikh.aleksandr@gmail.com': [[45], 42], u'khusnutdinova.e@gmail.com': [[3], 10], u'kkrasnoschekov@genplanmos.ru': [[72, 73], 22], u'sergey.salnikov.dev@yandex.ru': [[60, 77, 62], 30], u'a-karelsky@hotmail.com': [[48], 10], u'adeykin90@gmail.com': [[55], 10], u'antonkiselev@me.com': [[59], 10], u'grayskripko@gmail.com': [[15], 42], u'pavel7ovchinnikov@gmail.com': [[11], 10], u'andryuha-v@mail.ru': [[80, 64, 75], 32], u'junky.man@yandex.ru': [[20], 10], u'belindr@mail.ru': [[12], 22], u'pavelpakhomov@gmail.com': [[33, 69], 32], u'anton_palmov@mail.ru': [[46], 10], u'atselikov@gmail.com': [[39], 20], u'pro-maker@ya.ru': [[22], 42], u'bendyna.ivan@gmail.com': [[26], 32], u'frolova.victory@gmail.com': [[74, 76], 22], u'aloha@74.ru': [[29], 12], u'ni-ko-lay@mail.ru': [[82, 61], 22], u'susumanin@gmail.com': [[34], 22], u'korzhikdmitry@gmail.com': [[83], 12], u'ashmanov@gmail.com': [[25], 10], u'murashkin.alexandr@gmail.com': [[16], 12], u'kirgush@gmail.com': [[4], 20]}\n"
     ]
    }
   ],
   "source": [
    "bills_dict = parse_bills(\"../data/kassa_bills.txt\")\n",
    "paid_ids = parse_payments(\"../data/kassa_payments.txt\")\n",
    "\n",
    "print(paid_emails(bills_dict, paid_ids))"
   ]
  },
  {
   "cell_type": "markdown",
   "metadata": {},
   "source": [
    "Напоследок запишем полученные данный в csv-файл, который потом можно редактировать в Excel или текстовом редакторе"
   ]
  },
  {
   "cell_type": "code",
   "execution_count": 8,
   "metadata": {
    "collapsed": true
   },
   "outputs": [],
   "source": [
    "def write_to_csv(output_path, paid_emails_dic):\n",
    "    with open(output_path,'w', encoding=\"utf8\") as paid_file:\n",
    "        for email_id in paid_emails_dic:\n",
    "            paid_file.write('{0};{1};{2}\\n'\\\n",
    "                            .format(email_id, \n",
    "                                    paid_emails_dic[email_id][0], \n",
    "                                    paid_emails_dic[email_id][1]))"
   ]
  },
  {
   "cell_type": "code",
   "execution_count": 9,
   "metadata": {
    "collapsed": false,
    "scrolled": true
   },
   "outputs": [],
   "source": [
    "paid_emails_dic = paid_emails(bills_dict, paid_ids)\n",
    "write_to_csv(\"../output/paid_emails.csv\", paid_emails_dic)"
   ]
  },
  {
   "cell_type": "markdown",
   "metadata": {},
   "source": [
    "Получили на выходе scv-файл, из которого легко сделать такую таблицу:\n",
    "\n",
    "<img src=\"../img/paid_emails_output.png\">"
   ]
  }
 ],
 "metadata": {
  "kernelspec": {
   "display_name": "Python 2",
   "language": "python",
   "name": "python2"
  },
  "language_info": {
   "codemirror_mode": {
    "name": "ipython",
    "version": 2
   },
   "file_extension": ".py",
   "mimetype": "text/x-python",
   "name": "python",
   "nbconvert_exporter": "python",
   "pygments_lexer": "ipython2",
   "version": "2.7.10"
  }
 },
 "nbformat": 4,
 "nbformat_minor": 0
}
